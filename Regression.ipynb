{
 "cells": [
  {
   "cell_type": "markdown",
   "metadata": {},
   "source": [
    "# Machine Learning & Regression linéaire - Python  \n",
    "sources:  \n",
    "https://blog.nalo.fr/lexique/r-carre-ou-r2/  \n",
    "https://machinelearnia.com/regression-lineaire-equations-normales/  \n",
    "https://docs.scipy.org/doc/scipy-0.14.0/reference/generated/scipy.stats.linregress.html  \n",
    "https://scikit-learn.org/stable/modules/generated/sklearn.linear_model.LinearRegression.html  \n"
   ]
  },
  {
   "cell_type": "markdown",
   "metadata": {},
   "source": [
    "## Utilisation des librairies suivantes: numpy, pandas, matplotlib, seaborn, scipy\n"
   ]
  },
  {
   "cell_type": "code",
   "execution_count": 1,
   "metadata": {},
   "outputs": [],
   "source": [
    "import numpy as np\n",
    "import pandas as pd\n",
    "import matplotlib.pyplot as plt\n",
    "import seaborn as sns\n",
    "from scipy import stats\n",
    "from matplotlib import cm"
   ]
  },
  {
   "cell_type": "markdown",
   "metadata": {},
   "source": [
    "\n",
    "\n",
    "## 1 - Lecture du fichier d'entrée:\n",
    "On utilise Pandas pour récupérer les données des voitures  \n",
    "On crée un DataFrame pour simplifier la gestion des données en Python du fichier csv"
   ]
  },
  {
   "cell_type": "code",
   "execution_count": 2,
   "metadata": {},
   "outputs": [
    {
     "data": {
      "text/html": [
       "<div>\n",
       "<style scoped>\n",
       "    .dataframe tbody tr th:only-of-type {\n",
       "        vertical-align: middle;\n",
       "    }\n",
       "\n",
       "    .dataframe tbody tr th {\n",
       "        vertical-align: top;\n",
       "    }\n",
       "\n",
       "    .dataframe thead th {\n",
       "        text-align: right;\n",
       "    }\n",
       "</style>\n",
       "<table border=\"1\" class=\"dataframe\">\n",
       "  <thead>\n",
       "    <tr style=\"text-align: right;\">\n",
       "      <th></th>\n",
       "      <th>Car_Name</th>\n",
       "      <th>Year</th>\n",
       "      <th>Selling_Price</th>\n",
       "      <th>Present_Price</th>\n",
       "      <th>Kms_Driven</th>\n",
       "      <th>Fuel_Type</th>\n",
       "      <th>Seller_Type</th>\n",
       "      <th>Transmission</th>\n",
       "      <th>Owner</th>\n",
       "    </tr>\n",
       "  </thead>\n",
       "  <tbody>\n",
       "    <tr>\n",
       "      <th>0</th>\n",
       "      <td>ritz</td>\n",
       "      <td>2014</td>\n",
       "      <td>3.35</td>\n",
       "      <td>5.59</td>\n",
       "      <td>27000</td>\n",
       "      <td>Petrol</td>\n",
       "      <td>Dealer</td>\n",
       "      <td>Manual</td>\n",
       "      <td>0</td>\n",
       "    </tr>\n",
       "    <tr>\n",
       "      <th>1</th>\n",
       "      <td>sx4</td>\n",
       "      <td>2013</td>\n",
       "      <td>4.75</td>\n",
       "      <td>9.54</td>\n",
       "      <td>43000</td>\n",
       "      <td>Diesel</td>\n",
       "      <td>Dealer</td>\n",
       "      <td>Manual</td>\n",
       "      <td>0</td>\n",
       "    </tr>\n",
       "    <tr>\n",
       "      <th>2</th>\n",
       "      <td>ciaz</td>\n",
       "      <td>2017</td>\n",
       "      <td>7.25</td>\n",
       "      <td>9.85</td>\n",
       "      <td>6900</td>\n",
       "      <td>Petrol</td>\n",
       "      <td>Dealer</td>\n",
       "      <td>Manual</td>\n",
       "      <td>0</td>\n",
       "    </tr>\n",
       "    <tr>\n",
       "      <th>3</th>\n",
       "      <td>wagon r</td>\n",
       "      <td>2011</td>\n",
       "      <td>2.85</td>\n",
       "      <td>4.15</td>\n",
       "      <td>5200</td>\n",
       "      <td>Petrol</td>\n",
       "      <td>Dealer</td>\n",
       "      <td>Manual</td>\n",
       "      <td>0</td>\n",
       "    </tr>\n",
       "    <tr>\n",
       "      <th>4</th>\n",
       "      <td>swift</td>\n",
       "      <td>2014</td>\n",
       "      <td>4.60</td>\n",
       "      <td>6.87</td>\n",
       "      <td>42450</td>\n",
       "      <td>Diesel</td>\n",
       "      <td>Dealer</td>\n",
       "      <td>Manual</td>\n",
       "      <td>0</td>\n",
       "    </tr>\n",
       "  </tbody>\n",
       "</table>\n",
       "</div>"
      ],
      "text/plain": [
       "  Car_Name  Year  Selling_Price  Present_Price  Kms_Driven Fuel_Type  \\\n",
       "0     ritz  2014           3.35           5.59       27000    Petrol   \n",
       "1      sx4  2013           4.75           9.54       43000    Diesel   \n",
       "2     ciaz  2017           7.25           9.85        6900    Petrol   \n",
       "3  wagon r  2011           2.85           4.15        5200    Petrol   \n",
       "4    swift  2014           4.60           6.87       42450    Diesel   \n",
       "\n",
       "  Seller_Type Transmission  Owner  \n",
       "0      Dealer       Manual      0  \n",
       "1      Dealer       Manual      0  \n",
       "2      Dealer       Manual      0  \n",
       "3      Dealer       Manual      0  \n",
       "4      Dealer       Manual      0  "
      ]
     },
     "execution_count": 2,
     "metadata": {},
     "output_type": "execute_result"
    }
   ],
   "source": [
    "df = pd.read_csv(\"data/carData.csv\")\n",
    "df.head()"
   ]
  },
  {
   "cell_type": "markdown",
   "metadata": {},
   "source": [
    "## 2 Quelques conversions dans le DataFrame :\n",
    "Avant de traiter les données on peut les normaliser/standardiser  \n",
    "Ici on se contentera notamment de remplacer les valeurs catégoriques en valeurs numériques"
   ]
  },
  {
   "cell_type": "code",
   "execution_count": 3,
   "metadata": {},
   "outputs": [],
   "source": [
    "df = df.replace(\"Petrol\", 0).replace(\"Diesel\", 1).replace(\"CNG\", 2)\n",
    "df = df.replace(\"Manual\", 0).replace(\"Automatic\", 1)\n",
    "df[\"Year\"] = 2020 - df[\"Year\"]\n",
    "df[\"Kms_Driven\"] = 1/(df[\"Kms_Driven\"] / 10**3)"
   ]
  },
  {
   "cell_type": "markdown",
   "metadata": {},
   "source": [
    "\n",
    "\n",
    "## 3, 4 - Visualisation des stats de base :\n",
    "Analyses élémentaires des données: distributions, corrélations, stats"
   ]
  },
  {
   "cell_type": "code",
   "execution_count": 4,
   "metadata": {},
   "outputs": [
    {
     "data": {
      "text/html": [
       "<div>\n",
       "<style scoped>\n",
       "    .dataframe tbody tr th:only-of-type {\n",
       "        vertical-align: middle;\n",
       "    }\n",
       "\n",
       "    .dataframe tbody tr th {\n",
       "        vertical-align: top;\n",
       "    }\n",
       "\n",
       "    .dataframe thead th {\n",
       "        text-align: right;\n",
       "    }\n",
       "</style>\n",
       "<table border=\"1\" class=\"dataframe\">\n",
       "  <thead>\n",
       "    <tr style=\"text-align: right;\">\n",
       "      <th></th>\n",
       "      <th>Year</th>\n",
       "      <th>Selling_Price</th>\n",
       "      <th>Present_Price</th>\n",
       "      <th>Kms_Driven</th>\n",
       "      <th>Fuel_Type</th>\n",
       "      <th>Transmission</th>\n",
       "      <th>Owner</th>\n",
       "    </tr>\n",
       "  </thead>\n",
       "  <tbody>\n",
       "    <tr>\n",
       "      <th>count</th>\n",
       "      <td>301.000000</td>\n",
       "      <td>301.000000</td>\n",
       "      <td>301.000000</td>\n",
       "      <td>301.000000</td>\n",
       "      <td>301.000000</td>\n",
       "      <td>301.000000</td>\n",
       "      <td>301.000000</td>\n",
       "    </tr>\n",
       "    <tr>\n",
       "      <th>mean</th>\n",
       "      <td>6.372093</td>\n",
       "      <td>4.661296</td>\n",
       "      <td>7.628472</td>\n",
       "      <td>0.084670</td>\n",
       "      <td>0.212625</td>\n",
       "      <td>0.132890</td>\n",
       "      <td>0.043189</td>\n",
       "    </tr>\n",
       "    <tr>\n",
       "      <th>std</th>\n",
       "      <td>2.891554</td>\n",
       "      <td>5.082812</td>\n",
       "      <td>8.644115</td>\n",
       "      <td>0.199740</td>\n",
       "      <td>0.425801</td>\n",
       "      <td>0.340021</td>\n",
       "      <td>0.247915</td>\n",
       "    </tr>\n",
       "    <tr>\n",
       "      <th>min</th>\n",
       "      <td>2.000000</td>\n",
       "      <td>0.100000</td>\n",
       "      <td>0.320000</td>\n",
       "      <td>0.002000</td>\n",
       "      <td>0.000000</td>\n",
       "      <td>0.000000</td>\n",
       "      <td>0.000000</td>\n",
       "    </tr>\n",
       "    <tr>\n",
       "      <th>25%</th>\n",
       "      <td>4.000000</td>\n",
       "      <td>0.900000</td>\n",
       "      <td>1.200000</td>\n",
       "      <td>0.020506</td>\n",
       "      <td>0.000000</td>\n",
       "      <td>0.000000</td>\n",
       "      <td>0.000000</td>\n",
       "    </tr>\n",
       "    <tr>\n",
       "      <th>50%</th>\n",
       "      <td>6.000000</td>\n",
       "      <td>3.600000</td>\n",
       "      <td>6.400000</td>\n",
       "      <td>0.031250</td>\n",
       "      <td>0.000000</td>\n",
       "      <td>0.000000</td>\n",
       "      <td>0.000000</td>\n",
       "    </tr>\n",
       "    <tr>\n",
       "      <th>75%</th>\n",
       "      <td>8.000000</td>\n",
       "      <td>6.000000</td>\n",
       "      <td>9.900000</td>\n",
       "      <td>0.066667</td>\n",
       "      <td>0.000000</td>\n",
       "      <td>0.000000</td>\n",
       "      <td>0.000000</td>\n",
       "    </tr>\n",
       "    <tr>\n",
       "      <th>max</th>\n",
       "      <td>17.000000</td>\n",
       "      <td>35.000000</td>\n",
       "      <td>92.600000</td>\n",
       "      <td>2.000000</td>\n",
       "      <td>2.000000</td>\n",
       "      <td>1.000000</td>\n",
       "      <td>3.000000</td>\n",
       "    </tr>\n",
       "  </tbody>\n",
       "</table>\n",
       "</div>"
      ],
      "text/plain": [
       "             Year  Selling_Price  Present_Price  Kms_Driven   Fuel_Type  \\\n",
       "count  301.000000     301.000000     301.000000  301.000000  301.000000   \n",
       "mean     6.372093       4.661296       7.628472    0.084670    0.212625   \n",
       "std      2.891554       5.082812       8.644115    0.199740    0.425801   \n",
       "min      2.000000       0.100000       0.320000    0.002000    0.000000   \n",
       "25%      4.000000       0.900000       1.200000    0.020506    0.000000   \n",
       "50%      6.000000       3.600000       6.400000    0.031250    0.000000   \n",
       "75%      8.000000       6.000000       9.900000    0.066667    0.000000   \n",
       "max     17.000000      35.000000      92.600000    2.000000    2.000000   \n",
       "\n",
       "       Transmission       Owner  \n",
       "count    301.000000  301.000000  \n",
       "mean       0.132890    0.043189  \n",
       "std        0.340021    0.247915  \n",
       "min        0.000000    0.000000  \n",
       "25%        0.000000    0.000000  \n",
       "50%        0.000000    0.000000  \n",
       "75%        0.000000    0.000000  \n",
       "max        1.000000    3.000000  "
      ]
     },
     "execution_count": 4,
     "metadata": {},
     "output_type": "execute_result"
    }
   ],
   "source": [
    "df.describe()"
   ]
  },
  {
   "cell_type": "code",
   "execution_count": 5,
   "metadata": {},
   "outputs": [
    {
     "data": {
      "image/png": "[encoded data removed]",
      "text/plain": [
       "<Figure size 432x288 with 4 Axes>"
      ]
     },
     "metadata": {
      "needs_background": "light"
     },
     "output_type": "display_data"
    }
   ],
   "source": [
    "nb_echantillon = df.shape[0]\n",
    "fig, ax = plt.subplots(2,2)\n",
    "plt.subplots_adjust(left=None, bottom=None, right=2, top=2, wspace=None, hspace=None)\n",
    "ax[0][0].hist(df[\"Year\"], alpha = 0.5, color = 'r')\n",
    "ax[0][1].hist(df[\"Kms_Driven\"], bins=200, alpha=0.5, color='g')\n",
    "ax[1][0].hist(df[\"Selling_Price\"]*1000, bins=50, alpha = 0.5, color = 'b')\n",
    "ax[1][1].hist(df[\"Present_Price\"]*1000, bins=50, alpha=0.5, color='b')\n",
    "\n",
    "ax[0][0].title.set_text(\"Nombre de voiture en fonction de l'année de fabrication\")\n",
    "ax[0][1].title.set_text(\"Nombre de voiture en fonction de leur kilométrage\")\n",
    "ax[1][0].title.set_text(\"Nombre de voiture en fonction de leur prix de vente(€)\")\n",
    "ax[1][1].title.set_text(\"Nombre de voiture en fonction de leur prix d'achat(€)\")\n",
    "plt.show()"
   ]
  },
  {
   "cell_type": "markdown",
   "metadata": {},
   "source": [
    "Une voiture moyenne aura 7 ans, un prix de vente de 5.000€ et environs 70.000km au compteur  "
   ]
  },
  {
   "cell_type": "markdown",
   "metadata": {},
   "source": [
    "### Corrélations entres les différentes colonnes du Dataset :\n",
    "On utilise la matrice de corrélation de Pandas et la méthode heatmap de seaborn  \n",
    "Les couleurs chaudes/froides indiquent une corrélation forte et le blanc indique le contraire  "
   ]
  },
  {
   "cell_type": "code",
   "execution_count": 6,
   "metadata": {},
   "outputs": [
    {
     "data": {
      "text/plain": [
       "<AxesSubplot:>"
      ]
     },
     "execution_count": 6,
     "metadata": {},
     "output_type": "execute_result"
    },
    {
     "data": {
      "image/png": "[encoded data removed]",
      "text/plain": [
       "<Figure size 432x288 with 2 Axes>"
      ]
     },
     "metadata": {
      "needs_background": "light"
     },
     "output_type": "display_data"
    }
   ],
   "source": [
    "corr = df.corr()\n",
    "mask = np.zeros_like(corr, dtype=np.bool)\n",
    "sns.heatmap(corr, mask=mask, cmap=sns.diverging_palette(220, 10, as_cmap=True, sep=100), vmin=-1, vmax=1, center=0, linewidths=.5)"
   ]
  },
  {
   "cell_type": "markdown",
   "metadata": {},
   "source": [
    "### catplot utilisé pour visualiser la relation entre plusieurs variables  \n",
    "Prix de vente en fonction de l'année et de la transmission de la voiture  "
   ]
  },
  {
   "cell_type": "code",
   "execution_count": 7,
   "metadata": {},
   "outputs": [
    {
     "data": {
      "image/png": "[encoded data removed]",
      "text/plain": [
       "<Figure size 792.625x360 with 1 Axes>"
      ]
     },
     "metadata": {
      "needs_background": "light"
     },
     "output_type": "display_data"
    }
   ],
   "source": [
    "sns.catplot(x=\"Year\", y=\"Selling_Price\", hue=\"Transmission\", data=df, height=5, aspect=2)\n",
    "plt.show()"
   ]
  },
  {
   "cell_type": "markdown",
   "metadata": {},
   "source": [
    "### Dispersion des prix de vente avec violinplot de seaborn:"
   ]
  },
  {
   "cell_type": "code",
   "execution_count": 8,
   "metadata": {},
   "outputs": [
    {
     "data": {
      "text/plain": [
       "<AxesSubplot:xlabel='Selling_Price'>"
      ]
     },
     "execution_count": 8,
     "metadata": {},
     "output_type": "execute_result"
    },
    {
     "data": {
      "image/png": "[encoded data removed]",
      "text/plain": [
       "<Figure size 432x288 with 1 Axes>"
      ]
     },
     "metadata": {
      "needs_background": "light"
     },
     "output_type": "display_data"
    }
   ],
   "source": [
    "sns.violinplot(x=df[\"Selling_Price\"])"
   ]
  },
  {
   "cell_type": "markdown",
   "metadata": {},
   "source": [
    "### jointplot de seaborn :\n",
    "\n",
    "Permet une analyse un peu plus poussée qu'un simple plot entre deux variables  \n",
    "Distribution des deux axes, tendance   "
   ]
  },
  {
   "cell_type": "code",
   "execution_count": 9,
   "metadata": {},
   "outputs": [
    {
     "data": {
      "text/plain": [
       "<seaborn.axisgrid.JointGrid at 0x1a1f2d51a00>"
      ]
     },
     "execution_count": 9,
     "metadata": {},
     "output_type": "execute_result"
    },
    {
     "data": {
      "image/png": "[encoded data removed]",
      "text/plain": [
       "<Figure size 504x504 with 3 Axes>"
      ]
     },
     "metadata": {
      "needs_background": "light"
     },
     "output_type": "display_data"
    }
   ],
   "source": [
    "sns.jointplot(x=\"Year\", y=\"Selling_Price\", data=df[[\"Selling_Price\", \"Year\"]],\n",
    "                  kind=\"reg\", truncate=False,\n",
    "                  xlim=(0, 60), ylim=(0, 12),\n",
    "                  color=\"m\", height=7)"
   ]
  },
  {
   "cell_type": "markdown",
   "metadata": {},
   "source": [
    "\n",
    "\n",
    "## 5 - Régression Linéaire :\n",
    "### Quantifions la relation entre le prix et l'année de vente\n",
    "\n",
    "On constate que le prix de vente est un peu corrélé avec l'age de la voiture.\n",
    "On peut penser qu'une regression linéaire pourrait nous permettre de faire des estimations de prix à partir de ce Dataset.  \n",
    "On aurait donc une fonction de type ax + b et on cherche à connaitre les paramètres a et b pour lesquelles il y'a le moins d'erreur sur l'ensemble des points.  \n",
    "3 implémentations : numpy, sklearn, scipy  \n",
    "  \n",
    "Afin de juger la véracité des modèles on pourra calculer le coefficient de détermination R carré"
   ]
  },
  {
   "cell_type": "code",
   "execution_count": 10,
   "metadata": {},
   "outputs": [],
   "source": [
    "# Utilisé pour le calcul de r2\n",
    "from sklearn.metrics import r2_score"
   ]
  },
  {
   "cell_type": "markdown",
   "metadata": {},
   "source": [
    "#### Déclarations des données concernées"
   ]
  },
  {
   "cell_type": "code",
   "execution_count": 11,
   "metadata": {},
   "outputs": [],
   "source": [
    "# x => Années\n",
    "# y => Prix de vente\n",
    "# x & y sont les mêmes pour toutes les méthodes univariés\n",
    "x, y = df[\"Year\"].to_numpy().reshape(nb_echantillon, -1), df[\"Selling_Price\"].to_numpy().reshape(nb_echantillon, -1)"
   ]
  },
  {
   "cell_type": "markdown",
   "metadata": {},
   "source": [
    "\n",
    "\n",
    "### NumPy  \n",
    "\n",
    "Les équations normales peuvent nous être utile dans le cas d'une regression linéaire puisque ce nous permet de trouver à la suite d'un calcul les coefficients optimisées pour a et b  "
   ]
  },
  {
   "cell_type": "code",
   "execution_count": 12,
   "metadata": {},
   "outputs": [
    {
     "data": {
      "text/plain": [
       "'a=-0.41509169463554646, b=7.306298572461729'"
      ]
     },
     "execution_count": 12,
     "metadata": {},
     "output_type": "execute_result"
    }
   ],
   "source": [
    "# On redéclare notre vecteur x avec des 1 pour pouvoir effectuer les équations normales\n",
    "x1 = np.hstack((np.ones(x.shape), x))\n",
    "\n",
    "# Équations normales\n",
    "theta = np.linalg.pinv(x1.T.dot(x1)).dot(x1.T).dot(y)\n",
    "\n",
    "# Paramètre a et b optimisé\n",
    "f'a={theta[1][0]}, b={theta[0][0]}'"
   ]
  },
  {
   "cell_type": "code",
   "execution_count": 13,
   "metadata": {},
   "outputs": [],
   "source": [
    "# Produit matriciel qui correspond aux prédictions de notre model\n",
    "# On calcul toutes les valeurs de y en fonction des paramètres a;b \n",
    "y_pred_1 = x1.dot(theta)"
   ]
  },
  {
   "cell_type": "code",
   "execution_count": 14,
   "metadata": {},
   "outputs": [
    {
     "data": {
      "text/plain": [
       "[<matplotlib.lines.Line2D at 0x1a1f343c2b0>]"
      ]
     },
     "execution_count": 14,
     "metadata": {},
     "output_type": "execute_result"
    },
    {
     "data": {
      "image/png": "[encoded data removed]",
      "text/plain": [
       "<Figure size 432x288 with 1 Axes>"
      ]
     },
     "metadata": {
      "needs_background": "light"
     },
     "output_type": "display_data"
    }
   ],
   "source": [
    "plt.scatter(x, y, s=7)\n",
    "plt.xlabel('Années', fontsize=18)\n",
    "plt.ylabel('Prix (k€)', fontsize=16)\n",
    "plt.plot(x, y_pred_1, c='r')"
   ]
  },
  {
   "cell_type": "code",
   "execution_count": 15,
   "metadata": {},
   "outputs": [
    {
     "data": {
      "text/plain": [
       "'Coefficient R2 = 0.06'"
      ]
     },
     "execution_count": 15,
     "metadata": {},
     "output_type": "execute_result"
    }
   ],
   "source": [
    "f'Coefficient R2 = {round(r2_score(y, y_pred_1), 2)}'"
   ]
  },
  {
   "cell_type": "markdown",
   "metadata": {},
   "source": [
    "  \n",
    "  \n",
    "### SKLearn"
   ]
  },
  {
   "cell_type": "code",
   "execution_count": 16,
   "metadata": {},
   "outputs": [
    {
     "data": {
      "text/plain": [
       "[<matplotlib.lines.Line2D at 0x1a1f3a6f670>]"
      ]
     },
     "execution_count": 16,
     "metadata": {},
     "output_type": "execute_result"
    },
    {
     "data": {
      "image/png": "[encoded data removed]",
      "text/plain": [
       "<Figure size 432x288 with 1 Axes>"
      ]
     },
     "metadata": {
      "needs_background": "light"
     },
     "output_type": "display_data"
    }
   ],
   "source": [
    "from sklearn.linear_model import LinearRegression\n",
    "\n",
    "# Nouveau modèle de regression linéaire\n",
    "model = LinearRegression()\n",
    "# On améliore la véracité de notre model\n",
    "model.fit(x, y)\n",
    "# Prédictions y de notre model\n",
    "y_pred_2 = model.predict(x)\n",
    "\n",
    "plt.scatter(x, y, s=15)\n",
    "plt.xlabel('Années', fontsize=18)\n",
    "plt.ylabel('Prix (k€)', fontsize=16)\n",
    "plt.plot(x, y_pred_2, c='r')"
   ]
  },
  {
   "cell_type": "code",
   "execution_count": 17,
   "metadata": {},
   "outputs": [
    {
     "data": {
      "text/plain": [
       "'Coefficient R2 = 0.06'"
      ]
     },
     "execution_count": 17,
     "metadata": {},
     "output_type": "execute_result"
    }
   ],
   "source": [
    "f'Coefficient R2 = {round(r2_score(y, y_pred_1), 2)}'"
   ]
  },
  {
   "cell_type": "markdown",
   "metadata": {},
   "source": [
    "\n",
    "\n",
    "### SciPy\n"
   ]
  },
  {
   "cell_type": "code",
   "execution_count": 18,
   "metadata": {
    "scrolled": true
   },
   "outputs": [
    {
     "data": {
      "text/plain": [
       "[<matplotlib.lines.Line2D at 0x1a1f3acde80>]"
      ]
     },
     "execution_count": 18,
     "metadata": {},
     "output_type": "execute_result"
    },
    {
     "data": {
      "image/png": "[encoded data removed]",
      "text/plain": [
       "<Figure size 432x288 with 1 Axes>"
      ]
     },
     "metadata": {
      "needs_background": "light"
     },
     "output_type": "display_data"
    }
   ],
   "source": [
    "a, b, r, p_value, std_err = stats.linregress(x.flatten(), y.flatten())\n",
    "theta = b, a\n",
    "y_pred_3 = x1.dot(theta)\n",
    "\n",
    "plt.scatter(x, y, s=15)\n",
    "plt.xlabel('Années', fontsize=18)\n",
    "plt.ylabel('Prix (k€)', fontsize=16)\n",
    "plt.plot(x, y_pred_3, c=\"red\")"
   ]
  },
  {
   "cell_type": "code",
   "execution_count": 19,
   "metadata": {},
   "outputs": [
    {
     "data": {
      "text/plain": [
       "'Coefficient R2 = 0.06'"
      ]
     },
     "execution_count": 19,
     "metadata": {},
     "output_type": "execute_result"
    }
   ],
   "source": [
    "f'Coefficient R2 = {round(r2_score(y, y_pred_3), 2)}'"
   ]
  },
  {
   "cell_type": "markdown",
   "metadata": {},
   "source": [
    "### Amélioration du modèle avec plusieurs variables d'entrée (année, kilométrage, transmission, carburant)\n",
    "\n",
    "En utilisant 3 méthodes différentes on arrive à chaque fois au même modèle et à un R2 proche des 6%, c'est un résultat très mauvais enfaite : on ne pourra pas vraiment faire d'estimation fiable à partir de ce modèle car elle aura une marge d'erreur trop élevée.  \n",
    "Pour y remédier on peut essayer de faire un modèle multivarié, càd un modèle à partir de plusieurs variables.  \n",
    "Ici on rajoute les km parcourus et la transmission de la voiture.\n",
    "\n",
    "L'implémentation grâce à sklearn est la même en univarié qu'en multivarié, il faut simplement spécifier les colonnes concernées."
   ]
  },
  {
   "cell_type": "code",
   "execution_count": 20,
   "metadata": {},
   "outputs": [
    {
     "data": {
      "text/plain": [
       "'Coefficient R2 = 0.24'"
      ]
     },
     "execution_count": 20,
     "metadata": {},
     "output_type": "execute_result"
    }
   ],
   "source": [
    "model_multivarie = LinearRegression()\n",
    "\n",
    "x2 = np.array(df[[\"Year\", \"Kms_Driven\", \"Transmission\"]])\n",
    "\n",
    "model_multivarie.fit(x2, y)\n",
    "\n",
    "predictions_multi = model_multivarie.predict(x2)\n",
    "\n",
    "f'Coefficient R2 = {round(model_multivarie.score(x2, y), 2)}'"
   ]
  },
  {
   "cell_type": "markdown",
   "metadata": {},
   "source": [
    "On constate que le modèle multivariés a une meilleur véracité que le modèle univarié, dans ce cas là il y'a un rapport de 4 entre les deux.  \n",
    "Selon la corrélation des variables, le coefficient r2 peut rapidement augmenter et on peut arriver à un modèle assez concluant.  \n",
    "Ici 24% de r2 est toujours faible avec ces 3 variables.\n"
   ]
  },
  {
   "cell_type": "markdown",
   "metadata": {},
   "source": [
    "\n",
    "\n",
    "## 6 - Régression Linéraire multivariés perso.\n",
    "\n",
    "L'implémentation de la régression linéaire multivarié peut se faire à l'aide de la descente de gradient.  \n",
    "4 étapes à suivre :  \n",
    "- calcul du nouveau model en fonction de theta -> on récupère toutes les valeurs de y (produit matriciel)  \n",
    "- fonction de cout -> taux d'erreur du modèle  \n",
    "- gradient -> calcul de dérivée en fonction de theta  \n",
    "- descente de gradient -> réassignation d'un nouveau theta  "
   ]
  },
  {
   "cell_type": "code",
   "execution_count": 21,
   "metadata": {},
   "outputs": [],
   "source": [
    "import Regression as myReg"
   ]
  },
  {
   "cell_type": "code",
   "execution_count": 22,
   "metadata": {},
   "outputs": [],
   "source": [
    "x_multi = np.array(df[[\"Year\", \"Kms_Driven\", \"Transmission\"]])"
   ]
  },
  {
   "cell_type": "code",
   "execution_count": 23,
   "metadata": {},
   "outputs": [],
   "source": [
    "reg = myReg.Regression(x_multi, y)"
   ]
  },
  {
   "cell_type": "code",
   "execution_count": 24,
   "metadata": {
    "scrolled": true
   },
   "outputs": [
    {
     "data": {
      "image/png": "[encoded data removed]",
      "text/plain": [
       "<Figure size 432x288 with 1 Axes>"
      ]
     },
     "metadata": {
      "needs_background": "light"
     },
     "output_type": "display_data"
    },
    {
     "data": {
      "image/png": "[encoded data removed]",
      "text/plain": [
       "<Figure size 432x288 with 1 Axes>"
      ]
     },
     "metadata": {
      "needs_background": "light"
     },
     "output_type": "display_data"
    },
    {
     "data": {
      "image/png": "[encoded data removed]",
      "text/plain": [
       "<Figure size 432x288 with 1 Axes>"
      ]
     },
     "metadata": {
      "needs_background": "light"
     },
     "output_type": "display_data"
    }
   ],
   "source": [
    "n_iter = 1500\n",
    "ln_rate = .005\n",
    "\n",
    "theta, y_pred_4, model_hist, cost_hist = reg.gradient_descent(n_iter, ln_rate)\n",
    "myReg.Utils.plot_result(x, y, y_pred_4, theta, n_iter, model_hist, cost_hist)\n",
    "\n"
   ]
  },
  {
   "cell_type": "code",
   "execution_count": 25,
   "metadata": {},
   "outputs": [
    {
     "data": {
      "text/plain": [
       "'Coefficient R2 = 0.19'"
      ]
     },
     "execution_count": 25,
     "metadata": {},
     "output_type": "execute_result"
    }
   ],
   "source": [
    "f'Coefficient R2 = {round(r2_score(y, y_pred_4), 2)}'"
   ]
  },
  {
   "cell_type": "markdown",
   "metadata": {},
   "source": [
    "On retrouve le même r2 que pour l'implémentation avec sklearn avec les mêmes variables, ce qui signifie que l'algo de descente de gradient fonctionne.  \n",
    "On remarque aussi que le modèle finale peut énormément changer en fonction du learningRate et du nombre d'itérations.  "
   ]
  },
  {
   "cell_type": "markdown",
   "metadata": {},
   "source": [
    "\n",
    "\n",
    "## 8 - Estimation du prix d'une voiture en fonction d'un modèle mutlivariés\n"
   ]
  },
  {
   "cell_type": "code",
   "execution_count": 26,
   "metadata": {},
   "outputs": [
    {
     "data": {
      "text/plain": [
       "'r2=0.86'"
      ]
     },
     "execution_count": 26,
     "metadata": {},
     "output_type": "execute_result"
    }
   ],
   "source": [
    "x_multi_2 = np.array(df[[\"Present_Price\", \"Transmission\", \"Kms_Driven\", \"Year\"]])\n",
    "reg_2 = myReg.Regression(x_multi_2, y)\n",
    "theta_2, y_pred_5, model_hist_2, cost_hist_2 = reg_2.gradient_descent(n_iter, ln_rate)\n",
    "# myReg.Utils.plot_result(x, y, y_pred_5, theta_2, n_iter, model_hist_2, cost_hist_2)\n",
    "f\"r2={round(r2_score(y, y_pred_5), 2)}\""
   ]
  },
  {
   "cell_type": "code",
   "execution_count": 27,
   "metadata": {
    "scrolled": true
   },
   "outputs": [
    {
     "name": "stdout",
     "output_type": "stream",
     "text": [
      "age km7 60000\n"
     ]
    }
   ],
   "source": [
    "age, km = map(int, input(\"age km\").split(\" \"))"
   ]
  },
  {
   "cell_type": "code",
   "execution_count": 28,
   "metadata": {},
   "outputs": [],
   "source": [
    "input_data = np.array([age, 1/(km/10**3), 0]).reshape(1, -1)"
   ]
  },
  {
   "cell_type": "code",
   "execution_count": 29,
   "metadata": {},
   "outputs": [
    {
     "name": "stdout",
     "output_type": "stream",
     "text": [
      "Caractéristiques de la voiture:\n",
      "Age: 7,\n",
      "Kilomètres: 60000,\n",
      "Transmission: Manuel\n"
     ]
    }
   ],
   "source": [
    "print(f\"Caractéristiques de la voiture:\\nAge: {age},\\nKilomètres: {km},\\nTransmission: Manuel\")"
   ]
  },
  {
   "cell_type": "code",
   "execution_count": 30,
   "metadata": {},
   "outputs": [
    {
     "data": {
      "text/plain": [
       "'Estimation du prix de la voiture: 3969.31€'"
      ]
     },
     "execution_count": 30,
     "metadata": {},
     "output_type": "execute_result"
    }
   ],
   "source": [
    "f\"Estimation du prix de la voiture: {round(model_multivarie.predict(input_data)[0][0]*1000, 2)}€\""
   ]
  },
  {
   "cell_type": "markdown",
   "metadata": {},
   "source": [
    "\n",
    "\n",
    "### Visualisation 3D"
   ]
  },
  {
   "cell_type": "code",
   "execution_count": 31,
   "metadata": {},
   "outputs": [
    {
     "data": {
      "application/javascript": [
       "/* Put everything inside the global mpl namespace */\n",
       "/* global mpl */\n",
       "window.mpl = {};\n",
       "\n",
       "mpl.get_websocket_type = function () {\n",
       "    if (typeof WebSocket !== 'undefined') {\n",
       "        return WebSocket;\n",
       "    } else if (typeof MozWebSocket !== 'undefined') {\n",
       "        return MozWebSocket;\n",
       "    } else {\n",
       "        alert(\n",
       "            'Your browser does not have WebSocket support. ' +\n",
       "                'Please try Chrome, Safari or Firefox ≥ 6. ' +\n",
       "                'Firefox 4 and 5 are also supported but you ' +\n",
       "                'have to enable WebSockets in about:config.'\n",
       "        );\n",
       "    }\n",
       "};\n",
       "\n",
       "mpl.figure = function (figure_id, websocket, ondownload, parent_element) {\n",
       "    this.id = figure_id;\n",
       "\n",
       "    this.ws = websocket;\n",
       "\n",
       "    this.supports_binary = this.ws.binaryType !== undefined;\n",
       "\n",
       "    if (!this.supports_binary) {\n",
       "        var warnings = document.getElementById('mpl-warnings');\n",
       "        if (warnings) {\n",
       "            warnings.style.display = 'block';\n",
       "            warnings.textContent =\n",
       "                'This browser does not support binary websocket messages. ' +\n",
       "                'Performance may be slow.';\n",
       "        }\n",
       "    }\n",
       "\n",
       "    this.imageObj = new Image();\n",
       "\n",
       "    this.context = undefined;\n",
       "    this.message = undefined;\n",
       "    this.canvas = undefined;\n",
       "    this.rubberband_canvas = undefined;\n",
       "    this.rubberband_context = undefined;\n",
       "    this.format_dropdown = undefined;\n",
       "\n",
       "    this.image_mode = 'full';\n",
       "\n",
       "    this.root = document.createElement('div');\n",
       "    this.root.setAttribute('style', 'display: inline-block');\n",
       "    this._root_extra_style(this.root);\n",
       "\n",
       "    parent_element.appendChild(this.root);\n",
       "\n",
       "    this._init_header(this);\n",
       "    this._init_canvas(this);\n",
       "    this._init_toolbar(this);\n",
       "\n",
       "    var fig = this;\n",
       "\n",
       "    this.waiting = false;\n",
       "\n",
       "    this.ws.onopen = function () {\n",
       "        fig.send_message('supports_binary', { value: fig.supports_binary });\n",
       "        fig.send_message('send_image_mode', {});\n",
       "        if (fig.ratio !== 1) {\n",
       "            fig.send_message('set_dpi_ratio', { dpi_ratio: fig.ratio });\n",
       "        }\n",
       "        fig.send_message('refresh', {});\n",
       "    };\n",
       "\n",
       "    this.imageObj.onload = function () {\n",
       "        if (fig.image_mode === 'full') {\n",
       "            // Full images could contain transparency (where diff images\n",
       "            // almost always do), so we need to clear the canvas so that\n",
       "            // there is no ghosting.\n",
       "            fig.context.clearRect(0, 0, fig.canvas.width, fig.canvas.height);\n",
       "        }\n",
       "        fig.context.drawImage(fig.imageObj, 0, 0);\n",
       "    };\n",
       "\n",
       "    this.imageObj.onunload = function () {\n",
       "        fig.ws.close();\n",
       "    };\n",
       "\n",
       "    this.ws.onmessage = this._make_on_message_function(this);\n",
       "\n",
       "    this.ondownload = ondownload;\n",
       "};\n",
       "\n",
       "mpl.figure.prototype._init_header = function () {\n",
       "    var titlebar = document.createElement('div');\n",
       "    titlebar.classList =\n",
       "        'ui-dialog-titlebar ui-widget-header ui-corner-all ui-helper-clearfix';\n",
       "    var titletext = document.createElement('div');\n",
       "    titletext.classList = 'ui-dialog-title';\n",
       "    titletext.setAttribute(\n",
       "        'style',\n",
       "        'width: 100%; text-align: center; padding: 3px;'\n",
       "    );\n",
       "    titlebar.appendChild(titletext);\n",
       "    this.root.appendChild(titlebar);\n",
       "    this.header = titletext;\n",
       "};\n",
       "\n",
       "mpl.figure.prototype._canvas_extra_style = function (_canvas_div) {};\n",
       "\n",
       "mpl.figure.prototype._root_extra_style = function (_canvas_div) {};\n",
       "\n",
       "mpl.figure.prototype._init_canvas = function () {\n",
       "    var fig = this;\n",
       "\n",
       "    var canvas_div = (this.canvas_div = document.createElement('div'));\n",
       "    canvas_div.setAttribute(\n",
       "        'style',\n",
       "        'border: 1px solid #ddd;' +\n",
       "            'box-sizing: content-box;' +\n",
       "            'clear: both;' +\n",
       "            'min-height: 1px;' +\n",
       "            'min-width: 1px;' +\n",
       "            'outline: 0;' +\n",
       "            'overflow: hidden;' +\n",
       "            'position: relative;' +\n",
       "            'resize: both;'\n",
       "    );\n",
       "\n",
       "    function on_keyboard_event_closure(name) {\n",
       "        return function (event) {\n",
       "            return fig.key_event(event, name);\n",
       "        };\n",
       "    }\n",
       "\n",
       "    canvas_div.addEventListener(\n",
       "        'keydown',\n",
       "        on_keyboard_event_closure('key_press')\n",
       "    );\n",
       "    canvas_div.addEventListener(\n",
       "        'keyup',\n",
       "        on_keyboard_event_closure('key_release')\n",
       "    );\n",
       "\n",
       "    this._canvas_extra_style(canvas_div);\n",
       "    this.root.appendChild(canvas_div);\n",
       "\n",
       "    var canvas = (this.canvas = document.createElement('canvas'));\n",
       "    canvas.classList.add('mpl-canvas');\n",
       "    canvas.setAttribute('style', 'box-sizing: content-box;');\n",
       "\n",
       "    this.context = canvas.getContext('2d');\n",
       "\n",
       "    var backingStore =\n",
       "        this.context.backingStorePixelRatio ||\n",
       "        this.context.webkitBackingStorePixelRatio ||\n",
       "        this.context.mozBackingStorePixelRatio ||\n",
       "        this.context.msBackingStorePixelRatio ||\n",
       "        this.context.oBackingStorePixelRatio ||\n",
       "        this.context.backingStorePixelRatio ||\n",
       "        1;\n",
       "\n",
       "    this.ratio = (window.devicePixelRatio || 1) / backingStore;\n",
       "    if (this.ratio !== 1) {\n",
       "        fig.send_message('set_dpi_ratio', { dpi_ratio: this.ratio });\n",
       "    }\n",
       "\n",
       "    var rubberband_canvas = (this.rubberband_canvas = document.createElement(\n",
       "        'canvas'\n",
       "    ));\n",
       "    rubberband_canvas.setAttribute(\n",
       "        'style',\n",
       "        'box-sizing: content-box; position: absolute; left: 0; top: 0; z-index: 1;'\n",
       "    );\n",
       "\n",
       "    var resizeObserver = new ResizeObserver(function (entries) {\n",
       "        var nentries = entries.length;\n",
       "        for (var i = 0; i < nentries; i++) {\n",
       "            var entry = entries[i];\n",
       "            var width, height;\n",
       "            if (entry.contentBoxSize) {\n",
       "                if (entry.contentBoxSize instanceof Array) {\n",
       "                    // Chrome 84 implements new version of spec.\n",
       "                    width = entry.contentBoxSize[0].inlineSize;\n",
       "                    height = entry.contentBoxSize[0].blockSize;\n",
       "                } else {\n",
       "                    // Firefox implements old version of spec.\n",
       "                    width = entry.contentBoxSize.inlineSize;\n",
       "                    height = entry.contentBoxSize.blockSize;\n",
       "                }\n",
       "            } else {\n",
       "                // Chrome <84 implements even older version of spec.\n",
       "                width = entry.contentRect.width;\n",
       "                height = entry.contentRect.height;\n",
       "            }\n",
       "\n",
       "            // Keep the size of the canvas and rubber band canvas in sync with\n",
       "            // the canvas container.\n",
       "            if (entry.devicePixelContentBoxSize) {\n",
       "                // Chrome 84 implements new version of spec.\n",
       "                canvas.setAttribute(\n",
       "                    'width',\n",
       "                    entry.devicePixelContentBoxSize[0].inlineSize\n",
       "                );\n",
       "                canvas.setAttribute(\n",
       "                    'height',\n",
       "                    entry.devicePixelContentBoxSize[0].blockSize\n",
       "                );\n",
       "            } else {\n",
       "                canvas.setAttribute('width', width * fig.ratio);\n",
       "                canvas.setAttribute('height', height * fig.ratio);\n",
       "            }\n",
       "            canvas.setAttribute(\n",
       "                'style',\n",
       "                'width: ' + width + 'px; height: ' + height + 'px;'\n",
       "            );\n",
       "\n",
       "            rubberband_canvas.setAttribute('width', width);\n",
       "            rubberband_canvas.setAttribute('height', height);\n",
       "\n",
       "            // And update the size in Python. We ignore the initial 0/0 size\n",
       "            // that occurs as the element is placed into the DOM, which should\n",
       "            // otherwise not happen due to the minimum size styling.\n",
       "            if (width != 0 && height != 0) {\n",
       "                fig.request_resize(width, height);\n",
       "            }\n",
       "        }\n",
       "    });\n",
       "    resizeObserver.observe(canvas_div);\n",
       "\n",
       "    function on_mouse_event_closure(name) {\n",
       "        return function (event) {\n",
       "            return fig.mouse_event(event, name);\n",
       "        };\n",
       "    }\n",
       "\n",
       "    rubberband_canvas.addEventListener(\n",
       "        'mousedown',\n",
       "        on_mouse_event_closure('button_press')\n",
       "    );\n",
       "    rubberband_canvas.addEventListener(\n",
       "        'mouseup',\n",
       "        on_mouse_event_closure('button_release')\n",
       "    );\n",
       "    // Throttle sequential mouse events to 1 every 20ms.\n",
       "    rubberband_canvas.addEventListener(\n",
       "        'mousemove',\n",
       "        on_mouse_event_closure('motion_notify')\n",
       "    );\n",
       "\n",
       "    rubberband_canvas.addEventListener(\n",
       "        'mouseenter',\n",
       "        on_mouse_event_closure('figure_enter')\n",
       "    );\n",
       "    rubberband_canvas.addEventListener(\n",
       "        'mouseleave',\n",
       "        on_mouse_event_closure('figure_leave')\n",
       "    );\n",
       "\n",
       "    canvas_div.addEventListener('wheel', function (event) {\n",
       "        if (event.deltaY < 0) {\n",
       "            event.step = 1;\n",
       "        } else {\n",
       "            event.step = -1;\n",
       "        }\n",
       "        on_mouse_event_closure('scroll')(event);\n",
       "    });\n",
       "\n",
       "    canvas_div.appendChild(canvas);\n",
       "    canvas_div.appendChild(rubberband_canvas);\n",
       "\n",
       "    this.rubberband_context = rubberband_canvas.getContext('2d');\n",
       "    this.rubberband_context.strokeStyle = '#000000';\n",
       "\n",
       "    this._resize_canvas = function (width, height, forward) {\n",
       "        if (forward) {\n",
       "            canvas_div.style.width = width + 'px';\n",
       "            canvas_div.style.height = height + 'px';\n",
       "        }\n",
       "    };\n",
       "\n",
       "    // Disable right mouse context menu.\n",
       "    this.rubberband_canvas.addEventListener('contextmenu', function (_e) {\n",
       "        event.preventDefault();\n",
       "        return false;\n",
       "    });\n",
       "\n",
       "    function set_focus() {\n",
       "        canvas.focus();\n",
       "        canvas_div.focus();\n",
       "    }\n",
       "\n",
       "    window.setTimeout(set_focus, 100);\n",
       "};\n",
       "\n",
       "mpl.figure.prototype._init_toolbar = function () {\n",
       "    var fig = this;\n",
       "\n",
       "    var toolbar = document.createElement('div');\n",
       "    toolbar.classList = 'mpl-toolbar';\n",
       "    this.root.appendChild(toolbar);\n",
       "\n",
       "    function on_click_closure(name) {\n",
       "        return function (_event) {\n",
       "            return fig.toolbar_button_onclick(name);\n",
       "        };\n",
       "    }\n",
       "\n",
       "    function on_mouseover_closure(tooltip) {\n",
       "        return function (event) {\n",
       "            if (!event.currentTarget.disabled) {\n",
       "                return fig.toolbar_button_onmouseover(tooltip);\n",
       "            }\n",
       "        };\n",
       "    }\n",
       "\n",
       "    fig.buttons = {};\n",
       "    var buttonGroup = document.createElement('div');\n",
       "    buttonGroup.classList = 'mpl-button-group';\n",
       "    for (var toolbar_ind in mpl.toolbar_items) {\n",
       "        var name = mpl.toolbar_items[toolbar_ind][0];\n",
       "        var tooltip = mpl.toolbar_items[toolbar_ind][1];\n",
       "        var image = mpl.toolbar_items[toolbar_ind][2];\n",
       "        var method_name = mpl.toolbar_items[toolbar_ind][3];\n",
       "\n",
       "        if (!name) {\n",
       "            /* Instead of a spacer, we start a new button group. */\n",
       "            if (buttonGroup.hasChildNodes()) {\n",
       "                toolbar.appendChild(buttonGroup);\n",
       "            }\n",
       "            buttonGroup = document.createElement('div');\n",
       "            buttonGroup.classList = 'mpl-button-group';\n",
       "            continue;\n",
       "        }\n",
       "\n",
       "        var button = (fig.buttons[name] = document.createElement('button'));\n",
       "        button.classList = 'mpl-widget';\n",
       "        button.setAttribute('role', 'button');\n",
       "        button.setAttribute('aria-disabled', 'false');\n",
       "        button.addEventListener('click', on_click_closure(method_name));\n",
       "        button.addEventListener('mouseover', on_mouseover_closure(tooltip));\n",
       "\n",
       "        var icon_img = document.createElement('img');\n",
       "        icon_img.src = '_images/' + image + '.png';\n",
       "        icon_img.srcset = '_images/' + image + '_large.png 2x';\n",
       "        icon_img.alt = tooltip;\n",
       "        button.appendChild(icon_img);\n",
       "\n",
       "        buttonGroup.appendChild(button);\n",
       "    }\n",
       "\n",
       "    if (buttonGroup.hasChildNodes()) {\n",
       "        toolbar.appendChild(buttonGroup);\n",
       "    }\n",
       "\n",
       "    var fmt_picker = document.createElement('select');\n",
       "    fmt_picker.classList = 'mpl-widget';\n",
       "    toolbar.appendChild(fmt_picker);\n",
       "    this.format_dropdown = fmt_picker;\n",
       "\n",
       "    for (var ind in mpl.extensions) {\n",
       "        var fmt = mpl.extensions[ind];\n",
       "        var option = document.createElement('option');\n",
       "        option.selected = fmt === mpl.default_extension;\n",
       "        option.innerHTML = fmt;\n",
       "        fmt_picker.appendChild(option);\n",
       "    }\n",
       "\n",
       "    var status_bar = document.createElement('span');\n",
       "    status_bar.classList = 'mpl-message';\n",
       "    toolbar.appendChild(status_bar);\n",
       "    this.message = status_bar;\n",
       "};\n",
       "\n",
       "mpl.figure.prototype.request_resize = function (x_pixels, y_pixels) {\n",
       "    // Request matplotlib to resize the figure. Matplotlib will then trigger a resize in the client,\n",
       "    // which will in turn request a refresh of the image.\n",
       "    this.send_message('resize', { width: x_pixels, height: y_pixels });\n",
       "};\n",
       "\n",
       "mpl.figure.prototype.send_message = function (type, properties) {\n",
       "    properties['type'] = type;\n",
       "    properties['figure_id'] = this.id;\n",
       "    this.ws.send(JSON.stringify(properties));\n",
       "};\n",
       "\n",
       "mpl.figure.prototype.send_draw_message = function () {\n",
       "    if (!this.waiting) {\n",
       "        this.waiting = true;\n",
       "        this.ws.send(JSON.stringify({ type: 'draw', figure_id: this.id }));\n",
       "    }\n",
       "};\n",
       "\n",
       "mpl.figure.prototype.handle_save = function (fig, _msg) {\n",
       "    var format_dropdown = fig.format_dropdown;\n",
       "    var format = format_dropdown.options[format_dropdown.selectedIndex].value;\n",
       "    fig.ondownload(fig, format);\n",
       "};\n",
       "\n",
       "mpl.figure.prototype.handle_resize = function (fig, msg) {\n",
       "    var size = msg['size'];\n",
       "    if (size[0] !== fig.canvas.width || size[1] !== fig.canvas.height) {\n",
       "        fig._resize_canvas(size[0], size[1], msg['forward']);\n",
       "        fig.send_message('refresh', {});\n",
       "    }\n",
       "};\n",
       "\n",
       "mpl.figure.prototype.handle_rubberband = function (fig, msg) {\n",
       "    var x0 = msg['x0'] / fig.ratio;\n",
       "    var y0 = (fig.canvas.height - msg['y0']) / fig.ratio;\n",
       "    var x1 = msg['x1'] / fig.ratio;\n",
       "    var y1 = (fig.canvas.height - msg['y1']) / fig.ratio;\n",
       "    x0 = Math.floor(x0) + 0.5;\n",
       "    y0 = Math.floor(y0) + 0.5;\n",
       "    x1 = Math.floor(x1) + 0.5;\n",
       "    y1 = Math.floor(y1) + 0.5;\n",
       "    var min_x = Math.min(x0, x1);\n",
       "    var min_y = Math.min(y0, y1);\n",
       "    var width = Math.abs(x1 - x0);\n",
       "    var height = Math.abs(y1 - y0);\n",
       "\n",
       "    fig.rubberband_context.clearRect(\n",
       "        0,\n",
       "        0,\n",
       "        fig.canvas.width / fig.ratio,\n",
       "        fig.canvas.height / fig.ratio\n",
       "    );\n",
       "\n",
       "    fig.rubberband_context.strokeRect(min_x, min_y, width, height);\n",
       "};\n",
       "\n",
       "mpl.figure.prototype.handle_figure_label = function (fig, msg) {\n",
       "    // Updates the figure title.\n",
       "    fig.header.textContent = msg['label'];\n",
       "};\n",
       "\n",
       "mpl.figure.prototype.handle_cursor = function (fig, msg) {\n",
       "    var cursor = msg['cursor'];\n",
       "    switch (cursor) {\n",
       "        case 0:\n",
       "            cursor = 'pointer';\n",
       "            break;\n",
       "        case 1:\n",
       "            cursor = 'default';\n",
       "            break;\n",
       "        case 2:\n",
       "            cursor = 'crosshair';\n",
       "            break;\n",
       "        case 3:\n",
       "            cursor = 'move';\n",
       "            break;\n",
       "    }\n",
       "    fig.rubberband_canvas.style.cursor = cursor;\n",
       "};\n",
       "\n",
       "mpl.figure.prototype.handle_message = function (fig, msg) {\n",
       "    fig.message.textContent = msg['message'];\n",
       "};\n",
       "\n",
       "mpl.figure.prototype.handle_draw = function (fig, _msg) {\n",
       "    // Request the server to send over a new figure.\n",
       "    fig.send_draw_message();\n",
       "};\n",
       "\n",
       "mpl.figure.prototype.handle_image_mode = function (fig, msg) {\n",
       "    fig.image_mode = msg['mode'];\n",
       "};\n",
       "\n",
       "mpl.figure.prototype.handle_history_buttons = function (fig, msg) {\n",
       "    for (var key in msg) {\n",
       "        if (!(key in fig.buttons)) {\n",
       "            continue;\n",
       "        }\n",
       "        fig.buttons[key].disabled = !msg[key];\n",
       "        fig.buttons[key].setAttribute('aria-disabled', !msg[key]);\n",
       "    }\n",
       "};\n",
       "\n",
       "mpl.figure.prototype.handle_navigate_mode = function (fig, msg) {\n",
       "    if (msg['mode'] === 'PAN') {\n",
       "        fig.buttons['Pan'].classList.add('active');\n",
       "        fig.buttons['Zoom'].classList.remove('active');\n",
       "    } else if (msg['mode'] === 'ZOOM') {\n",
       "        fig.buttons['Pan'].classList.remove('active');\n",
       "        fig.buttons['Zoom'].classList.add('active');\n",
       "    } else {\n",
       "        fig.buttons['Pan'].classList.remove('active');\n",
       "        fig.buttons['Zoom'].classList.remove('active');\n",
       "    }\n",
       "};\n",
       "\n",
       "mpl.figure.prototype.updated_canvas_event = function () {\n",
       "    // Called whenever the canvas gets updated.\n",
       "    this.send_message('ack', {});\n",
       "};\n",
       "\n",
       "// A function to construct a web socket function for onmessage handling.\n",
       "// Called in the figure constructor.\n",
       "mpl.figure.prototype._make_on_message_function = function (fig) {\n",
       "    return function socket_on_message(evt) {\n",
       "        if (evt.data instanceof Blob) {\n",
       "            /* FIXME: We get \"Resource interpreted as Image but\n",
       "             * transferred with MIME type text/plain:\" errors on\n",
       "             * Chrome.  But how to set the MIME type?  It doesn't seem\n",
       "             * to be part of the websocket stream */\n",
       "            evt.data.type = 'image/png';\n",
       "\n",
       "            /* Free the memory for the previous frames */\n",
       "            if (fig.imageObj.src) {\n",
       "                (window.URL || window.webkitURL).revokeObjectURL(\n",
       "                    fig.imageObj.src\n",
       "                );\n",
       "            }\n",
       "\n",
       "            fig.imageObj.src = (window.URL || window.webkitURL).createObjectURL(\n",
       "                evt.data\n",
       "            );\n",
       "            fig.updated_canvas_event();\n",
       "            fig.waiting = false;\n",
       "            return;\n",
       "        } else if (\n",
       "            typeof evt.data === 'string' &&\n",
       "            evt.data.slice(0, 21) === 'data:image/png;base64'\n",
       "        ) {\n",
       "            fig.imageObj.src = evt.data;\n",
       "            fig.updated_canvas_event();\n",
       "            fig.waiting = false;\n",
       "            return;\n",
       "        }\n",
       "\n",
       "        var msg = JSON.parse(evt.data);\n",
       "        var msg_type = msg['type'];\n",
       "\n",
       "        // Call the  \"handle_{type}\" callback, which takes\n",
       "        // the figure and JSON message as its only arguments.\n",
       "        try {\n",
       "            var callback = fig['handle_' + msg_type];\n",
       "        } catch (e) {\n",
       "            console.log(\n",
       "                \"No handler for the '\" + msg_type + \"' message type: \",\n",
       "                msg\n",
       "            );\n",
       "            return;\n",
       "        }\n",
       "\n",
       "        if (callback) {\n",
       "            try {\n",
       "                // console.log(\"Handling '\" + msg_type + \"' message: \", msg);\n",
       "                callback(fig, msg);\n",
       "            } catch (e) {\n",
       "                console.log(\n",
       "                    \"Exception inside the 'handler_\" + msg_type + \"' callback:\",\n",
       "                    e,\n",
       "                    e.stack,\n",
       "                    msg\n",
       "                );\n",
       "            }\n",
       "        }\n",
       "    };\n",
       "};\n",
       "\n",
       "// from http://stackoverflow.com/questions/1114465/getting-mouse-location-in-canvas\n",
       "mpl.findpos = function (e) {\n",
       "    //this section is from http://www.quirksmode.org/js/events_properties.html\n",
       "    var targ;\n",
       "    if (!e) {\n",
       "        e = window.event;\n",
       "    }\n",
       "    if (e.target) {\n",
       "        targ = e.target;\n",
       "    } else if (e.srcElement) {\n",
       "        targ = e.srcElement;\n",
       "    }\n",
       "    if (targ.nodeType === 3) {\n",
       "        // defeat Safari bug\n",
       "        targ = targ.parentNode;\n",
       "    }\n",
       "\n",
       "    // pageX,Y are the mouse positions relative to the document\n",
       "    var boundingRect = targ.getBoundingClientRect();\n",
       "    var x = e.pageX - (boundingRect.left + document.body.scrollLeft);\n",
       "    var y = e.pageY - (boundingRect.top + document.body.scrollTop);\n",
       "\n",
       "    return { x: x, y: y };\n",
       "};\n",
       "\n",
       "/*\n",
       " * return a copy of an object with only non-object keys\n",
       " * we need this to avoid circular references\n",
       " * http://stackoverflow.com/a/24161582/3208463\n",
       " */\n",
       "function simpleKeys(original) {\n",
       "    return Object.keys(original).reduce(function (obj, key) {\n",
       "        if (typeof original[key] !== 'object') {\n",
       "            obj[key] = original[key];\n",
       "        }\n",
       "        return obj;\n",
       "    }, {});\n",
       "}\n",
       "\n",
       "mpl.figure.prototype.mouse_event = function (event, name) {\n",
       "    var canvas_pos = mpl.findpos(event);\n",
       "\n",
       "    if (name === 'button_press') {\n",
       "        this.canvas.focus();\n",
       "        this.canvas_div.focus();\n",
       "    }\n",
       "\n",
       "    var x = canvas_pos.x * this.ratio;\n",
       "    var y = canvas_pos.y * this.ratio;\n",
       "\n",
       "    this.send_message(name, {\n",
       "        x: x,\n",
       "        y: y,\n",
       "        button: event.button,\n",
       "        step: event.step,\n",
       "        guiEvent: simpleKeys(event),\n",
       "    });\n",
       "\n",
       "    /* This prevents the web browser from automatically changing to\n",
       "     * the text insertion cursor when the button is pressed.  We want\n",
       "     * to control all of the cursor setting manually through the\n",
       "     * 'cursor' event from matplotlib */\n",
       "    event.preventDefault();\n",
       "    return false;\n",
       "};\n",
       "\n",
       "mpl.figure.prototype._key_event_extra = function (_event, _name) {\n",
       "    // Handle any extra behaviour associated with a key event\n",
       "};\n",
       "\n",
       "mpl.figure.prototype.key_event = function (event, name) {\n",
       "    // Prevent repeat events\n",
       "    if (name === 'key_press') {\n",
       "        if (event.which === this._key) {\n",
       "            return;\n",
       "        } else {\n",
       "            this._key = event.which;\n",
       "        }\n",
       "    }\n",
       "    if (name === 'key_release') {\n",
       "        this._key = null;\n",
       "    }\n",
       "\n",
       "    var value = '';\n",
       "    if (event.ctrlKey && event.which !== 17) {\n",
       "        value += 'ctrl+';\n",
       "    }\n",
       "    if (event.altKey && event.which !== 18) {\n",
       "        value += 'alt+';\n",
       "    }\n",
       "    if (event.shiftKey && event.which !== 16) {\n",
       "        value += 'shift+';\n",
       "    }\n",
       "\n",
       "    value += 'k';\n",
       "    value += event.which.toString();\n",
       "\n",
       "    this._key_event_extra(event, name);\n",
       "\n",
       "    this.send_message(name, { key: value, guiEvent: simpleKeys(event) });\n",
       "    return false;\n",
       "};\n",
       "\n",
       "mpl.figure.prototype.toolbar_button_onclick = function (name) {\n",
       "    if (name === 'download') {\n",
       "        this.handle_save(this, null);\n",
       "    } else {\n",
       "        this.send_message('toolbar_button', { name: name });\n",
       "    }\n",
       "};\n",
       "\n",
       "mpl.figure.prototype.toolbar_button_onmouseover = function (tooltip) {\n",
       "    this.message.textContent = tooltip;\n",
       "};\n",
       "mpl.toolbar_items = [[\"Home\", \"Reset original view\", \"fa fa-home icon-home\", \"home\"], [\"Back\", \"Back to previous view\", \"fa fa-arrow-left icon-arrow-left\", \"back\"], [\"Forward\", \"Forward to next view\", \"fa fa-arrow-right icon-arrow-right\", \"forward\"], [\"\", \"\", \"\", \"\"], [\"Pan\", \"Left button pans, Right button zooms\\nx/y fixes axis, CTRL fixes aspect\", \"fa fa-arrows icon-move\", \"pan\"], [\"Zoom\", \"Zoom to rectangle\\nx/y fixes axis, CTRL fixes aspect\", \"fa fa-square-o icon-check-empty\", \"zoom\"], [\"\", \"\", \"\", \"\"], [\"Download\", \"Download plot\", \"fa fa-floppy-o icon-save\", \"download\"]];\n",
       "\n",
       "mpl.extensions = [\"eps\", \"jpeg\", \"pdf\", \"png\", \"ps\", \"raw\", \"svg\", \"tif\"];\n",
       "\n",
       "mpl.default_extension = \"png\";/* global mpl */\n",
       "\n",
       "var comm_websocket_adapter = function (comm) {\n",
       "    // Create a \"websocket\"-like object which calls the given IPython comm\n",
       "    // object with the appropriate methods. Currently this is a non binary\n",
       "    // socket, so there is still some room for performance tuning.\n",
       "    var ws = {};\n",
       "\n",
       "    ws.close = function () {\n",
       "        comm.close();\n",
       "    };\n",
       "    ws.send = function (m) {\n",
       "        //console.log('sending', m);\n",
       "        comm.send(m);\n",
       "    };\n",
       "    // Register the callback with on_msg.\n",
       "    comm.on_msg(function (msg) {\n",
       "        //console.log('receiving', msg['content']['data'], msg);\n",
       "        // Pass the mpl event to the overridden (by mpl) onmessage function.\n",
       "        ws.onmessage(msg['content']['data']);\n",
       "    });\n",
       "    return ws;\n",
       "};\n",
       "\n",
       "mpl.mpl_figure_comm = function (comm, msg) {\n",
       "    // This is the function which gets called when the mpl process\n",
       "    // starts-up an IPython Comm through the \"matplotlib\" channel.\n",
       "\n",
       "    var id = msg.content.data.id;\n",
       "    // Get hold of the div created by the display call when the Comm\n",
       "    // socket was opened in Python.\n",
       "    var element = document.getElementById(id);\n",
       "    var ws_proxy = comm_websocket_adapter(comm);\n",
       "\n",
       "    function ondownload(figure, _format) {\n",
       "        window.open(figure.canvas.toDataURL());\n",
       "    }\n",
       "\n",
       "    var fig = new mpl.figure(id, ws_proxy, ondownload, element);\n",
       "\n",
       "    // Call onopen now - mpl needs it, as it is assuming we've passed it a real\n",
       "    // web socket which is closed, not our websocket->open comm proxy.\n",
       "    ws_proxy.onopen();\n",
       "\n",
       "    fig.parent_element = element;\n",
       "    fig.cell_info = mpl.find_output_cell(\"<div id='\" + id + \"'></div>\");\n",
       "    if (!fig.cell_info) {\n",
       "        console.error('Failed to find cell for figure', id, fig);\n",
       "        return;\n",
       "    }\n",
       "    fig.cell_info[0].output_area.element.one(\n",
       "        'cleared',\n",
       "        { fig: fig },\n",
       "        fig._remove_fig_handler\n",
       "    );\n",
       "};\n",
       "\n",
       "mpl.figure.prototype.handle_close = function (fig, msg) {\n",
       "    var width = fig.canvas.width / fig.ratio;\n",
       "    fig.cell_info[0].output_area.element.off(\n",
       "        'cleared',\n",
       "        fig._remove_fig_handler\n",
       "    );\n",
       "\n",
       "    // Update the output cell to use the data from the current canvas.\n",
       "    fig.push_to_output();\n",
       "    var dataURL = fig.canvas.toDataURL();\n",
       "    // Re-enable the keyboard manager in IPython - without this line, in FF,\n",
       "    // the notebook keyboard shortcuts fail.\n",
       "    IPython.keyboard_manager.enable();\n",
       "    fig.parent_element.innerHTML =\n",
       "        '<img src=\"' + dataURL + '\" width=\"' + width + '\">';\n",
       "    fig.close_ws(fig, msg);\n",
       "};\n",
       "\n",
       "mpl.figure.prototype.close_ws = function (fig, msg) {\n",
       "    fig.send_message('closing', msg);\n",
       "    // fig.ws.close()\n",
       "};\n",
       "\n",
       "mpl.figure.prototype.push_to_output = function (_remove_interactive) {\n",
       "    // Turn the data on the canvas into data in the output cell.\n",
       "    var width = this.canvas.width / this.ratio;\n",
       "    var dataURL = this.canvas.toDataURL();\n",
       "    this.cell_info[1]['text/html'] =\n",
       "        '<img src=\"' + dataURL + '\" width=\"' + width + '\">';\n",
       "};\n",
       "\n",
       "mpl.figure.prototype.updated_canvas_event = function () {\n",
       "    // Tell IPython that the notebook contents must change.\n",
       "    IPython.notebook.set_dirty(true);\n",
       "    this.send_message('ack', {});\n",
       "    var fig = this;\n",
       "    // Wait a second, then push the new image to the DOM so\n",
       "    // that it is saved nicely (might be nice to debounce this).\n",
       "    setTimeout(function () {\n",
       "        fig.push_to_output();\n",
       "    }, 1000);\n",
       "};\n",
       "\n",
       "mpl.figure.prototype._init_toolbar = function () {\n",
       "    var fig = this;\n",
       "\n",
       "    var toolbar = document.createElement('div');\n",
       "    toolbar.classList = 'btn-toolbar';\n",
       "    this.root.appendChild(toolbar);\n",
       "\n",
       "    function on_click_closure(name) {\n",
       "        return function (_event) {\n",
       "            return fig.toolbar_button_onclick(name);\n",
       "        };\n",
       "    }\n",
       "\n",
       "    function on_mouseover_closure(tooltip) {\n",
       "        return function (event) {\n",
       "            if (!event.currentTarget.disabled) {\n",
       "                return fig.toolbar_button_onmouseover(tooltip);\n",
       "            }\n",
       "        };\n",
       "    }\n",
       "\n",
       "    fig.buttons = {};\n",
       "    var buttonGroup = document.createElement('div');\n",
       "    buttonGroup.classList = 'btn-group';\n",
       "    var button;\n",
       "    for (var toolbar_ind in mpl.toolbar_items) {\n",
       "        var name = mpl.toolbar_items[toolbar_ind][0];\n",
       "        var tooltip = mpl.toolbar_items[toolbar_ind][1];\n",
       "        var image = mpl.toolbar_items[toolbar_ind][2];\n",
       "        var method_name = mpl.toolbar_items[toolbar_ind][3];\n",
       "\n",
       "        if (!name) {\n",
       "            /* Instead of a spacer, we start a new button group. */\n",
       "            if (buttonGroup.hasChildNodes()) {\n",
       "                toolbar.appendChild(buttonGroup);\n",
       "            }\n",
       "            buttonGroup = document.createElement('div');\n",
       "            buttonGroup.classList = 'btn-group';\n",
       "            continue;\n",
       "        }\n",
       "\n",
       "        button = fig.buttons[name] = document.createElement('button');\n",
       "        button.classList = 'btn btn-default';\n",
       "        button.href = '#';\n",
       "        button.title = name;\n",
       "        button.innerHTML = '<i class=\"fa ' + image + ' fa-lg\"></i>';\n",
       "        button.addEventListener('click', on_click_closure(method_name));\n",
       "        button.addEventListener('mouseover', on_mouseover_closure(tooltip));\n",
       "        buttonGroup.appendChild(button);\n",
       "    }\n",
       "\n",
       "    if (buttonGroup.hasChildNodes()) {\n",
       "        toolbar.appendChild(buttonGroup);\n",
       "    }\n",
       "\n",
       "    // Add the status bar.\n",
       "    var status_bar = document.createElement('span');\n",
       "    status_bar.classList = 'mpl-message pull-right';\n",
       "    toolbar.appendChild(status_bar);\n",
       "    this.message = status_bar;\n",
       "\n",
       "    // Add the close button to the window.\n",
       "    var buttongrp = document.createElement('div');\n",
       "    buttongrp.classList = 'btn-group inline pull-right';\n",
       "    button = document.createElement('button');\n",
       "    button.classList = 'btn btn-mini btn-primary';\n",
       "    button.href = '#';\n",
       "    button.title = 'Stop Interaction';\n",
       "    button.innerHTML = '<i class=\"fa fa-power-off icon-remove icon-large\"></i>';\n",
       "    button.addEventListener('click', function (_evt) {\n",
       "        fig.handle_close(fig, {});\n",
       "    });\n",
       "    button.addEventListener(\n",
       "        'mouseover',\n",
       "        on_mouseover_closure('Stop Interaction')\n",
       "    );\n",
       "    buttongrp.appendChild(button);\n",
       "    var titlebar = this.root.querySelector('.ui-dialog-titlebar');\n",
       "    titlebar.insertBefore(buttongrp, titlebar.firstChild);\n",
       "};\n",
       "\n",
       "mpl.figure.prototype._remove_fig_handler = function (event) {\n",
       "    var fig = event.data.fig;\n",
       "    fig.close_ws(fig, {});\n",
       "};\n",
       "\n",
       "mpl.figure.prototype._root_extra_style = function (el) {\n",
       "    el.style.boxSizing = 'content-box'; // override notebook setting of border-box.\n",
       "};\n",
       "\n",
       "mpl.figure.prototype._canvas_extra_style = function (el) {\n",
       "    // this is important to make the div 'focusable\n",
       "    el.setAttribute('tabindex', 0);\n",
       "    // reach out to IPython and tell the keyboard manager to turn it's self\n",
       "    // off when our div gets focus\n",
       "\n",
       "    // location in version 3\n",
       "    if (IPython.notebook.keyboard_manager) {\n",
       "        IPython.notebook.keyboard_manager.register_events(el);\n",
       "    } else {\n",
       "        // location in version 2\n",
       "        IPython.keyboard_manager.register_events(el);\n",
       "    }\n",
       "};\n",
       "\n",
       "mpl.figure.prototype._key_event_extra = function (event, _name) {\n",
       "    var manager = IPython.notebook.keyboard_manager;\n",
       "    if (!manager) {\n",
       "        manager = IPython.keyboard_manager;\n",
       "    }\n",
       "\n",
       "    // Check for shift+enter\n",
       "    if (event.shiftKey && event.which === 13) {\n",
       "        this.canvas_div.blur();\n",
       "        // select the cell after this one\n",
       "        var index = IPython.notebook.find_cell_index(this.cell_info[0]);\n",
       "        IPython.notebook.select(index + 1);\n",
       "    }\n",
       "};\n",
       "\n",
       "mpl.figure.prototype.handle_save = function (fig, _msg) {\n",
       "    fig.ondownload(fig, null);\n",
       "};\n",
       "\n",
       "mpl.find_output_cell = function (html_output) {\n",
       "    // Return the cell and output element which can be found *uniquely* in the notebook.\n",
       "    // Note - this is a bit hacky, but it is done because the \"notebook_saving.Notebook\"\n",
       "    // IPython event is triggered only after the cells have been serialised, which for\n",
       "    // our purposes (turning an active figure into a static one), is too late.\n",
       "    var cells = IPython.notebook.get_cells();\n",
       "    var ncells = cells.length;\n",
       "    for (var i = 0; i < ncells; i++) {\n",
       "        var cell = cells[i];\n",
       "        if (cell.cell_type === 'code') {\n",
       "            for (var j = 0; j < cell.output_area.outputs.length; j++) {\n",
       "                var data = cell.output_area.outputs[j];\n",
       "                if (data.data) {\n",
       "                    // IPython >= 3 moved mimebundle to data attribute of output\n",
       "                    data = data.data;\n",
       "                }\n",
       "                if (data['text/html'] === html_output) {\n",
       "                    return [cell, data, j];\n",
       "                }\n",
       "            }\n",
       "        }\n",
       "    }\n",
       "};\n",
       "\n",
       "// Register the function which deals with the matplotlib target/channel.\n",
       "// The kernel may be null if the page has been refreshed.\n",
       "if (IPython.notebook.kernel !== null) {\n",
       "    IPython.notebook.kernel.comm_manager.register_target(\n",
       "        'matplotlib',\n",
       "        mpl.mpl_figure_comm\n",
       "    );\n",
       "}\n"
      ],
      "text/plain": [
       "<IPython.core.display.Javascript object>"
      ]
     },
     "metadata": {},
     "output_type": "display_data"
    },
    {
     "data": {
      "text/html": [
       "<img src=\"data:image/png;base64,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\" width=\"640\">"
      ],
      "text/plain": [
       "<IPython.core.display.HTML object>"
      ]
     },
     "metadata": {},
     "output_type": "display_data"
    },
    {
     "data": {
      "text/plain": [
       "<mpl_toolkits.mplot3d.art3d.Path3DCollection at 0x1a1f4c78b20>"
      ]
     },
     "execution_count": 31,
     "metadata": {},
     "output_type": "execute_result"
    }
   ],
   "source": [
    "%matplotlib notebook\n",
    "sns.set(style = \"darkgrid\")\n",
    "\n",
    "fig = plt.figure()\n",
    "ax = fig.add_subplot(111, projection = '3d')\n",
    "col = np.arange(301)\n",
    "\n",
    "mx = df[\"Kms_Driven\"]\n",
    "my = y.flatten()\n",
    "mz = x.flatten()\n",
    "\n",
    "ax.set_xlabel(\"Kilomètres\")\n",
    "ax.set_ylabel(\"Années\")\n",
    "ax.set_zlabel(\"Prix\")\n",
    "\n",
    "ax.scatter(mx, my, mz, s=30, c=y, cmap = cm.coolwarm)"
   ]
  }
 ],
 "metadata": {
  "kernelspec": {
   "display_name": "Python 3",
   "language": "python",
   "name": "python3"
  },
  "language_info": {
   "codemirror_mode": {
    "name": "ipython",
    "version": 3
   },
   "file_extension": ".py",
   "mimetype": "text/x-python",
   "name": "python",
   "nbconvert_exporter": "python",
   "pygments_lexer": "ipython3",
   "version": "3.8.5"
  }
 },
 "nbformat": 4,
 "nbformat_minor": 4
}
